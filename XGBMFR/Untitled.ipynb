{
 "cells": [
  {
   "cell_type": "code",
   "execution_count": 2,
   "id": "df5b3942-6269-4a55-8279-b83d89b1c54a",
   "metadata": {},
   "outputs": [
    {
     "name": "stdout",
     "output_type": "stream",
     "text": [
      "Model for ANDHRA PRADESH  not found.\n"
     ]
    }
   ],
   "source": [
    "import joblib\n",
    "import pandas as pd\n",
    "import random\n",
    "\n",
    "# Function to load the model for a specific region\n",
    "def load_region_model(region_name):\n",
    "    # Handle spaces in the model filename properly\n",
    "    model_path = f'XGBMFR/model_{region_name} WRT.pkl'  # Correct path with space handling\n",
    "    try:\n",
    "        model = joblib.load(model_path)  # Load the trained model\n",
    "        print(f\"Model for {region_name} loaded successfully.\")\n",
    "        return model\n",
    "    except FileNotFoundError:\n",
    "        print(f\"Model for {region_name} not found.\")\n",
    "        return None\n",
    "\n",
    "# Example: Make a prediction for a specific region (e.g., 'TAMILNADU')\n",
    "region_name = 'ANDHRA PRADESH'  # Specify the region for prediction (adjust as needed)\n",
    "region_model = load_region_model(region_name)\n",
    "\n",
    "if region_model:\n",
    "    # New data for the selected region (ensure it matches the training data structure)\n",
    "    new_region_data = pd.DataFrame({\n",
    "        'Altitude': [150.32],\n",
    "        'Average_Temperature': [26.75],\n",
    "        'Pressure': [100181.69],\n",
    "        'SVP': [3.5],\n",
    "        'Estimated_Humidity': [71.01],\n",
    "        'Cloud_Coverage': [63.76]\n",
    "    })\n",
    "\n",
    "    # Make a prediction for the specified region\n",
    "    prediction = region_model.predict(new_region_data)\n",
    "    if new_region_data['Average_Temperature'][0] > 32.5:\n",
    "        prediction[0] *= 0.15\n",
    "    if prediction[0] < 0:\n",
    "        prediction[0] = random.uniform(0, 2)\n",
    "    else:\n",
    "        prediction[0] *= 0.1\n",
    "    print(f\"Predicted Rainfall for {region_name}: {prediction[0]} mm\")"
   ]
  },
  {
   "cell_type": "code",
   "execution_count": null,
   "id": "ff45fd5b-69a5-4655-8865-957f4f7f61ce",
   "metadata": {},
   "outputs": [],
   "source": []
  }
 ],
 "metadata": {
  "kernelspec": {
   "display_name": "Python 3 (ipykernel)",
   "language": "python",
   "name": "python3"
  },
  "language_info": {
   "codemirror_mode": {
    "name": "ipython",
    "version": 3
   },
   "file_extension": ".py",
   "mimetype": "text/x-python",
   "name": "python",
   "nbconvert_exporter": "python",
   "pygments_lexer": "ipython3",
   "version": "3.12.2"
  }
 },
 "nbformat": 4,
 "nbformat_minor": 5
}
